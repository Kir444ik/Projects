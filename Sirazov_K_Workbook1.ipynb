# 1.3 Задание
#x = 5 >= 2
#A = {1, 3, 7, 8}
#B = {2, 4, 5, 10, 'apple'}
#C = A & B
#df = 'Антонова Антонина', 34, 'ж'
#z = 'type'
#D = [1, 'title', 2, 'content']
# Решение

#print(x,'|', type(x),'\n', A,'|', type(A),'\n',
#      B,'|', type(B),'\n', C,'|', type(C),'\n',
#      df,'|', type(df),'\n', z,'|', type(z),'\n',
#      D,'|', type(D))

# 2.3 Задание


# Решение


#x = int(input())
#inf = float('inf')
#if x in (-inf, -4):
#    print("принадлежит = (-infinity , -5 )" )

#elif x in (-5, 5):
#    print("принадлежит = -5 , 5 )" )

#else:
#    print("принадлежит = 5 , infinity )" )


# 3.3.1 Задание

#x = 10
#while x >= 1:
#    print(x)
#    x-=3


# 3.3.2 Задание

# characteristics = ["Возраст", "Пол", "Рост", "Вес"]
# print(characteristics)




# 3.3.3 Задание

# numbers = list(range(2, 16))
# print(numbers)


# 3.3.4 Задание
# 1. Задача:


# for i in range(3, 0, -1):
#     print(i)



# 3.3.5 Задание


# x = [0, 1, 2, 3, 4, 5, 6, 7, 8, 9]

# # Пчетными  и разворачиваем

# y = x[::2][::-1]

# Вставляем

# x[::2] = y

# print(x)


# 4.3.1 Задание
# import numpy as np
# import matplotlib.pyplot as plt
#
# Задание параметров
# np.random.seed(0)
# size = 100
#
#
# data = np.random.rand(size)
#
# mean_value = np.mean(data)
# median_value = np.median(data)
#
# print(f"Среднее значение: {mean_value:.4f}",'\n',f"Медианное значение: {median_value:.4f}")

# точка график

# plt.figure(figsize=(8, 6))
# plt.scatter(range(size), data, alpha=0.7, edgecolors='w', s=100)
# plt.axhline(y=mean_value, color='r', linestyle='--', label=f'Среднее: {mean_value:.4f}')
# plt.axhline(y=median_value, color='g', linestyle='--', label=f'Медиана: {median_value:.4f}')

# plt.xlabel('Индекс')
# plt.ylabel('Значение')
# plt.legend()
# plt.grid(True)
# plt.show()





# 4.3.2 Задание
# import numpy as np
# import matplotlib.pyplot as plt

# прмер
# def f(x):
#     return (np.sqrt(1 + np.exp(np.sqrt(x)) + np.cos(x)2)) / np.abs(1 - np.sin(x)**3) + np.log(np.abs(2 * x))
#
# x = np.linspace(1, 10, 10)
#
#
# y = f(x)
#
# # половинка chtpf
# f_x_slice = y[:len(y) // 2]
#
#
# plt.plot(x, y, color='blue')
#
# # точечный
# plt.scatter(x[:len(f_x_slice)], f_x_slice, color='red')
#
#
#
#
#
#
# plt.xlabel('x')
# plt.ylabel('f(x)')
# plt.legend()
# plt.grid(True)
# plt.show()
 


# 4.3.3 Задание

# from scipy.integrate import simps
# from numpy import trapz
# from scipy.integrate import trapz
# import numpy as np
# import matplotlib.pyplot as plt

# Задаём 
#def f(x):
    #return np.abs(np.cos(x * np.exp(np.cos(x) + np.log(x + 1))))
#шаг
# x = np.arange(0, 10, 1)
# y = f(x)
# plt.plot(x, y, label='|cos(xe^(cos(x) + ln(x+1)))|')
# plt.fill_between(x, y, color='lightblue', alpha=0.5)
# plt.xlabel('x')
# plt.ylabel('y')
# plt.legend()
# plt.show()
# Вычисление площади под графиком
# area = trapz(y, x)
# print(area)


# Создайте простейший калькулятор, включающий основные действия
# для двух переменных ′ + ′, ′ − ′, ′ ∙ ′, ′ ÷ ′, а также вычисление


# import math
#
# Функция калькулятора
# def calculator(x, y, operation):
#     if operation == '+':
#         return x + y
#     elif operation == '-':
#         return x - y
#     elif operation == '*':
#         return x * y
#     elif operation == '/':
#         if y != 0:
#             return x / y
#         else:
#             return "Ошибка"
#     elif operation == 'exp':
#         return math.exp(x + y)
#     elif operation == 'sin':
#         return math.sin(x + y)
#     elif operation == 'cos':
#         return math.cos(x + y)
#     elif operation == 'pow':
#         return x  y
#     else:
#         return "Ошибка"
#
#
# x = float(input("x: "))
# y = float(input("y: "))
# operation = input("+, -, *, /, exp, sin, cos, pow")
#
# # Вывод результата
# g = calculator(x, y, operation)
# print(g)
#
# Откройте статистические данные по стоимости акций Apple,
# Microsoft, Google за 12 месяцев 2021 г. Постройте 3 графика на
# плоскости и оцените их динамику. Подумайте, как можно улучшить
# читаемость результатов.
# Для начальных данных допустимо использовать следующий ресурс:
# https://finance.yahoo.com

# import matplotlib.pyplot as plt
# import pandas as pd
# import numpy as np
#
#
# np.random.seed(0)
# dates = pd.date_range(start='2021-01-01', end='2021-12-31', freq='B')  # Деловые дни
#
#
# data = {
#     'AAPL': np.cumsum(np.random.randn(len(dates)) * 2 + 1) + 130,  # Цена акций Apple
#     'MSFT': np.cumsum(np.random.randn(len(dates)) * 2 + 2) + 230,  # Цена акций Microsoft
#     'GOOGL': np.cumsum(np.random.randn(len(dates)) * 2 + 3) + 1800  # Цена акций Google
# }
#
# df = pd.DataFrame(data, index=dates)
#
#
#
# plt.figure(figsize=(14, 10))
#
#
# plt.subplot(3, 1, 1)
# plt.plot(df.index, df['AAPL'], label='Apple', color='blue')
#
# plt.xlabel('Date')
# plt.ylabel('Price (USD)')
# plt.legend()
# plt.grid(True)

# plt.subplot(3, 1, 2)
# plt.plot(df.index, df['MSFT'], label='Microsoft', color='green')
#
# plt.xlabel('Date')
# plt.ylabel('Price (USD)')
# plt.legend()
# plt.grid(True)


# plt.subplot(3, 1, 3)
# plt.plot(df.index, df['GOOGL'], label='Google', color='red')
# plt.title('Google (GOOGL) Stock Price in 2021')
# plt.xlabel('Date')
# plt.ylabel('Price (USD)')
# plt.legend()
# plt.grid(True)
# plt.tight_layout()
# plt.show()
