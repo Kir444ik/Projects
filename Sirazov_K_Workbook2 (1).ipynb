{
 "cells": [
  {
   "cell_type": "code",
   "execution_count": 1,
   "metadata": {},
   "outputs": [],
   "source": [
    "import numpy as np\n",
    "import pandas as pd\n"
   ]
  },
  {
   "cell_type": "code",
   "execution_count": 38,
   "metadata": {},
   "outputs": [
    {
     "name": "stdout",
     "output_type": "stream",
     "text": [
      "[[1 0 1 0 1 0 1 0]\n",
      " [0 1 0 1 0 1 0 1]\n",
      " [1 0 1 0 1 0 1 0]\n",
      " [0 1 0 1 0 1 0 1]\n",
      " [1 0 1 0 1 0 1 0]\n",
      " [0 1 0 1 0 1 0 1]\n",
      " [1 0 1 0 1 0 1 0]\n",
      " [0 1 0 1 0 1 0 1]]\n"
     ]
    }
   ],
   "source": [
    "# 1.3.1 Задание Создать 8x8 матрицу и заполнить её в шахматном порядке нулями и единицами.\n",
    "\n",
    "\n",
    "Z = np.ones((8,8), dtype = int)\n",
    "Z[1::2, ::2] = 0\n",
    "Z[::2, 1::2] = 0\n",
    "print(Z)"
   ]
  },
  {
   "cell_type": "code",
   "execution_count": 39,
   "metadata": {},
   "outputs": [
    {
     "name": "stdout",
     "output_type": "stream",
     "text": [
      "[[0 1 2 3 4]\n",
      " [0 1 2 3 4]\n",
      " [0 1 2 3 4]\n",
      " [0 1 2 3 4]\n",
      " [0 1 2 3 4]]\n"
     ]
    }
   ],
   "source": [
    "#1.3.2 Задание Создать 5x5 матрицу со значениями в строках от 0 до 4. Для создания необходимо использовать функцию arrange.\n",
    "\n",
    "Z = np.zeros((5,5), dtype = int);Z += np.arange(5)\n",
    "print(Z)"
   ]
  },
  {
   "cell_type": "code",
   "execution_count": 28,
   "metadata": {},
   "outputs": [
    {
     "name": "stdout",
     "output_type": "stream",
     "text": [
      "[[[0.73931571 0.91402473 0.09553094]\n",
      "  [0.84129366 0.99336878 0.02402732]\n",
      "  [0.14811384 0.99428372 0.9804972 ]]\n",
      "\n",
      " [[0.74032024 0.54749902 0.90136457]\n",
      "  [0.04110523 0.01086101 0.16257117]\n",
      "  [0.59133657 0.75350952 0.49008848]]\n",
      "\n",
      " [[0.70184515 0.75975622 0.1317418 ]\n",
      "  [0.66590381 0.6967674  0.61681251]\n",
      "  [0.39995934 0.8859282  0.05907753]]]\n"
     ]
    }
   ],
   "source": [
    "#1.3.3 Задание Задача: Создать массив 3x3x3 со случайными значениями.\n",
    "\n",
    "print(np.random.random((3, 3, 3)))\n"
   ]
  },
  {
   "cell_type": "code",
   "execution_count": 40,
   "metadata": {},
   "outputs": [
    {
     "name": "stdout",
     "output_type": "stream",
     "text": [
      "[[1 1 1 1 1]\n",
      " [1 0 0 0 1]\n",
      " [1 0 0 0 1]\n",
      " [1 0 0 0 1]\n",
      " [1 1 1 1 1]]\n"
     ]
    }
   ],
   "source": [
    "#1.3.4 Задание Задача: Создать матрицу с 0 внутри, и 1 на границах.\n",
    "\n",
    "Z = np.ones((5,5), dtype=int); Z[1:-1:,1:-1:] = 0\n",
    "print(Z)"
   ]
  },
  {
   "cell_type": "code",
   "execution_count": 27,
   "metadata": {},
   "outputs": [
    {
     "name": "stdout",
     "output_type": "stream",
     "text": [
      "[13 12 11 10  9  8  7  6  5  4  3  2  1  0]\n"
     ]
    }
   ],
   "source": [
    "#1.3.5 Задание Задача: Создайте массив и отсортируйте его по убыванию.\n",
    "\n",
    "\n",
    "Z = np.array(range(14))\n",
    "Z = Z[::-1]\n",
    "Z.sort # не нужно\n",
    "print(Z)"
   ]
  },
  {
   "cell_type": "code",
   "execution_count": 33,
   "metadata": {},
   "outputs": [
    {
     "name": "stdout",
     "output_type": "stream",
     "text": [
      "Форма матрицы: \n",
      " (5, 5) \n",
      " Размер матрицы: \n",
      " 25 \n",
      " Размерность матрицы: \n",
      " 2\n"
     ]
    }
   ],
   "source": [
    "#1.3.6 Задание Задача: Создайте матрицу, выведите ее форму, размер и размерность.\n",
    "Z = np.random.random((5,5))\n",
    "print(\"Форма матрицы:\",'\\n',Z.shape,'\\n',\"Размер матрицы:\",'\\n',Z.size,'\\n',\"Размерность матрицы:\",'\\n',Z.ndim)\n",
    "\n",
    "\n"
   ]
  },
  {
   "cell_type": "code",
   "execution_count": 54,
   "metadata": {},
   "outputs": [
    {
     "name": "stdout",
     "output_type": "stream",
     "text": [
      "0    1\n",
      "1    2\n",
      "2    3\n",
      "3    4\n",
      "4    5\n",
      "dtype: int64 \n",
      " a    1\n",
      "b    2\n",
      "c    3\n",
      "dtype: int64 \n",
      " a    1\n",
      "b    2\n",
      "c    3\n",
      "d    4\n",
      "e    5\n",
      "dtype: int64\n"
     ]
    }
   ],
   "source": [
    "#2.3.1 Задание Задача: Найдитн евклидово расстояние между двумя Series (точками) a и b, неиспользуя встроенную формулу.\n",
    "print(pd.Series([1,2,3,4,5]),'\\n',\n",
    "      pd.Series({'a':1, 'b':2, 'c':3}),'\\n',\n",
    "      pd.Series(np.array([1,2,3,4,5]), ['a', 'b', 'c', 'd', 'e']),)\n"
   ]
  },
  {
   "cell_type": "code",
   "execution_count": 57,
   "metadata": {},
   "outputs": [
    {
     "name": "stdout",
     "output_type": "stream",
     "text": [
      "      crim    zn  indus  chas    nox     rm   age     dis  rad  tax  ptratio  \\\n",
      "0  0.00632  18.0   2.31     0  0.538  6.575  65.2  4.0900    1  296     15.3   \n",
      "1  0.02731   0.0   7.07     0  0.469  6.421  78.9  4.9671    2  242     17.8   \n",
      "2  0.02729   0.0   7.07     0  0.469  7.185  61.1  4.9671    2  242     17.8   \n",
      "3  0.03237   0.0   2.18     0  0.458  6.998  45.8  6.0622    3  222     18.7   \n",
      "4  0.06905   0.0   2.18     0  0.458  7.147  54.2  6.0622    3  222     18.7   \n",
      "\n",
      "        b  lstat  medv  \n",
      "0  396.90   4.98  24.0  \n",
      "1  396.90   9.14  21.6  \n",
      "2  392.83   4.03  34.7  \n",
      "3  394.63   2.94  33.4  \n",
      "4  396.90   5.33  36.2  \n"
     ]
    }
   ],
   "source": [
    "#2.3.2 Задание Задача: Найдите в Интернете ссылку на любой csv файл и сформируйте из него фрейм данных (например, коллекцию фреймов данных можно найти здесь: https://github.com/akmand/datasets).\n",
    "\n",
    "url = \"https://raw.githubusercontent.com/selva86/datasets/master/BostonHousing.csv\"\n",
    "df = pd.read_csv(url)\n",
    "\n",
    "print(df.head())\n"
   ]
  },
  {
   "cell_type": "code",
   "execution_count": 59,
   "metadata": {},
   "outputs": [
    {
     "data": {
      "text/html": [
       "<div>\n",
       "<style scoped>\n",
       "    .dataframe tbody tr th:only-of-type {\n",
       "        vertical-align: middle;\n",
       "    }\n",
       "\n",
       "    .dataframe tbody tr th {\n",
       "        vertical-align: top;\n",
       "    }\n",
       "\n",
       "    .dataframe thead th {\n",
       "        text-align: right;\n",
       "    }\n",
       "</style>\n",
       "<table border=\"1\" class=\"dataframe\">\n",
       "  <thead>\n",
       "    <tr style=\"text-align: right;\">\n",
       "      <th></th>\n",
       "      <th>Имя</th>\n",
       "      <th>Возраст</th>\n",
       "      <th>Скакуны</th>\n",
       "    </tr>\n",
       "  </thead>\n",
       "  <tbody>\n",
       "    <tr>\n",
       "      <th>0</th>\n",
       "      <td>Кирилл Татарстан</td>\n",
       "      <td>12</td>\n",
       "      <td>True</td>\n",
       "    </tr>\n",
       "    <tr>\n",
       "      <th>1</th>\n",
       "      <td>Юра Авган</td>\n",
       "      <td>35</td>\n",
       "      <td>False</td>\n",
       "    </tr>\n",
       "  </tbody>\n",
       "</table>\n",
       "</div>"
      ],
      "text/plain": [
       "                Имя  Возраст  Скакуны\n",
       "0  Кирилл Татарстан       12     True\n",
       "1         Юра Авган       35    False"
      ]
     },
     "execution_count": 59,
     "metadata": {},
     "output_type": "execute_result"
    }
   ],
   "source": [
    "#2.3.3 Задание Задача: Проделайте с получившемся из предыдущего задания фреймом данных те же действия, что и в примерах 2.2.5-2.2.7.\n",
    "dataFrame = pd.DataFrame()\n",
    "dataFrame['Имя'] = ['Кирилл Татарстан', 'Юра Авган']\n",
    "dataFrame['Возраст'] = [12,35]\n",
    "dataFrame['Скакуны'] = [True, False]\n",
    "dataFrame"
   ]
  },
  {
   "cell_type": "code",
   "execution_count": 24,
   "metadata": {},
   "outputs": [
    {
     "name": "stdout",
     "output_type": "stream",
     "text": [
      "   sepal_length_cm  sepal_width_cm  petal_length_cm  petal_width_cm species  \\\n",
      "0              5.1             3.5              1.4             0.2  setosa   \n",
      "1              4.9             3.0              1.4             0.2  setosa   \n",
      "2              4.7             3.2              1.3             0.2  setosa   \n",
      "3              4.6             3.1              1.5             0.2  setosa   \n",
      "4              5.0             3.6              1.4             0.2  setosa   \n",
      "\n",
      "   sepal_length_cm_normalized  sepal_width_cm_normalized  \n",
      "0                    0.222222                   1.032057  \n",
      "1                    0.166667                  -0.124958  \n",
      "2                    0.111111                   0.337848  \n",
      "3                    0.083333                   0.106445  \n",
      "4                    0.194444                   1.263460  \n"
     ]
    }
   ],
   "source": [
    "#Загрузить фрейм данных по ссылке: https://raw.githubusercontent.com/akmand/datasets/master/iris.csv. Необходимо выполнить нормализацию первого числового признака\n",
    "#(sepal_length_cm) с использованием минимаксного преобразования, а\n",
    "#второго (sepal_width_cm) с задействованием z-масштабирования\n",
    "import pandas as pd\n",
    "from sklearn.preprocessing import MinMaxScaler, StandardScaler\n",
    "\n",
    "url = \"https://raw.githubusercontent.com/akmand/datasets/master/iris.csv\"\n",
    "data = pd.read_csv(url)\n",
    "\n",
    "scaler_minmax = MinMaxScaler()\n",
    "scaler_z = StandardScaler()\n",
    "\n",
    "data['sepal_length_cm_normalized'] = scaler_minmax.fit_transform(data[['sepal_length_cm']])\n",
    "data['sepal_width_cm_normalized'] = scaler_z.fit_transform(data[['sepal_width_cm']])\n",
    "\n",
    "print(data.head())\n"
   ]
  }
 ],
 "metadata": {
  "kernelspec": {
   "display_name": "Python 3",
   "language": "python",
   "name": "python3"
  },
  "language_info": {
   "codemirror_mode": {
    "name": "ipython",
    "version": 3
   },
   "file_extension": ".py",
   "mimetype": "text/x-python",
   "name": "python",
   "nbconvert_exporter": "python",
   "pygments_lexer": "ipython3",
   "version": "3.11.4"
  }
 },
 "nbformat": 4,
 "nbformat_minor": 2
}
